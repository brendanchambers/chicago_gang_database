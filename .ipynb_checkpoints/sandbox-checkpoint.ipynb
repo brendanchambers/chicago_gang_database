{
 "cells": [
  {
   "cell_type": "code",
   "execution_count": 1,
   "metadata": {},
   "outputs": [
    {
     "name": "stdout",
     "output_type": "stream",
     "text": [
      "    SEX RAC  EnterYear  Number\n",
      "0     F   W       1993       2\n",
      "1     F   B       1993       4\n",
      "2     M   B       1993    1391\n",
      "3     M   U       1993     197\n",
      "4     M   W       1993     649\n",
      "5     M   I       1993       1\n",
      "6     F   B       1994      12\n",
      "7     M   W       1994     636\n",
      "8     F   W       1994       9\n",
      "9     M   U       1994      83\n",
      "10    M   A       1994       3\n",
      "11    M   B       1994    1190\n",
      "12    F   W       1995      17\n",
      "13    M   B       1995    1239\n",
      "14    F   U       1995      13\n",
      "15    M   W       1995     527\n",
      "16    M   A       1995       5\n",
      "17    M   U       1995     722\n",
      "18    F   B       1995      26\n",
      "19    M   B       1996    1816\n",
      "20    M   U       1996      97\n",
      "21    F   U       1996       3\n",
      "22    F   B       1996      52\n",
      "23    M   A       1996      10\n",
      "24    M   W       1996     642\n",
      "25    F   W       1996      34\n",
      "26    F   W       1997      29\n",
      "27    M   U       1997      41\n",
      "28    M   B       1997     945\n",
      "29    F   B       1997      34\n",
      "..   ..  ..        ...     ...\n",
      "147   M   B       2014     233\n",
      "148   M   W       2014     328\n",
      "149   M   U       2014      85\n",
      "150   F   B       2014       2\n",
      "151   F   W       2015       9\n",
      "152   F   U       2015       2\n",
      "153   F   B       2015       6\n",
      "154   M   W       2015     371\n",
      "155   M   B       2015     176\n",
      "156   M   U       2015      68\n",
      "157   M   A       2015       2\n",
      "158   M   U       2016      68\n",
      "159   F   W       2016      15\n",
      "160   F   B       2016       2\n",
      "161   M   W       2016     243\n",
      "162   M   B       2016     123\n",
      "163   F   U       2016       6\n",
      "164   M   W       2017     395\n",
      "165   M   U       2017      63\n",
      "166   F   B       2017       5\n",
      "167   M   B       2017     228\n",
      "168   F   U       2017       1\n",
      "169   M   A       2017       1\n",
      "170   F   W       2017      16\n",
      "171   M   U       2018      89\n",
      "172   F   B       2018       3\n",
      "173   F   U       2018       5\n",
      "174   M   W       2018     147\n",
      "175   F   W       2018       2\n",
      "176   M   B       2018     144\n",
      "\n",
      "[177 rows x 4 columns]\n",
      "<bound method DataFrame.head of     SEX RAC  EnterYear  Number\n",
      "0     F   W       1993       2\n",
      "1     F   B       1993       4\n",
      "2     M   B       1993    1391\n",
      "3     M   U       1993     197\n",
      "4     M   W       1993     649\n",
      "5     M   I       1993       1\n",
      "6     F   B       1994      12\n",
      "7     M   W       1994     636\n",
      "8     F   W       1994       9\n",
      "9     M   U       1994      83\n",
      "10    M   A       1994       3\n",
      "11    M   B       1994    1190\n",
      "12    F   W       1995      17\n",
      "13    M   B       1995    1239\n",
      "14    F   U       1995      13\n",
      "15    M   W       1995     527\n",
      "16    M   A       1995       5\n",
      "17    M   U       1995     722\n",
      "18    F   B       1995      26\n",
      "19    M   B       1996    1816\n",
      "20    M   U       1996      97\n",
      "21    F   U       1996       3\n",
      "22    F   B       1996      52\n",
      "23    M   A       1996      10\n",
      "24    M   W       1996     642\n",
      "25    F   W       1996      34\n",
      "26    F   W       1997      29\n",
      "27    M   U       1997      41\n",
      "28    M   B       1997     945\n",
      "29    F   B       1997      34\n",
      "..   ..  ..        ...     ...\n",
      "147   M   B       2014     233\n",
      "148   M   W       2014     328\n",
      "149   M   U       2014      85\n",
      "150   F   B       2014       2\n",
      "151   F   W       2015       9\n",
      "152   F   U       2015       2\n",
      "153   F   B       2015       6\n",
      "154   M   W       2015     371\n",
      "155   M   B       2015     176\n",
      "156   M   U       2015      68\n",
      "157   M   A       2015       2\n",
      "158   M   U       2016      68\n",
      "159   F   W       2016      15\n",
      "160   F   B       2016       2\n",
      "161   M   W       2016     243\n",
      "162   M   B       2016     123\n",
      "163   F   U       2016       6\n",
      "164   M   W       2017     395\n",
      "165   M   U       2017      63\n",
      "166   F   B       2017       5\n",
      "167   M   B       2017     228\n",
      "168   F   U       2017       1\n",
      "169   M   A       2017       1\n",
      "170   F   W       2017      16\n",
      "171   M   U       2018      89\n",
      "172   F   B       2018       3\n",
      "173   F   U       2018       5\n",
      "174   M   W       2018     147\n",
      "175   F   W       2018       2\n",
      "176   M   B       2018     144\n",
      "\n",
      "[177 rows x 4 columns]>\n"
     ]
    }
   ],
   "source": [
    "# foia request data from propublica\n",
    "# state of illinois gang database metadata - entries added per year\n",
    "#    key for their database:\n",
    "#   W = white or hispanic\n",
    "#   B = black\n",
    "#   A = \n",
    "#   U = \n",
    "#   I   \n",
    "\n",
    "import pandas as pd\n",
    "\n",
    "statewide_counts_path = 'data/18-1942-StatewideGangs-7_16_2018.xlsx'\n",
    "\n",
    "gangDB = pd.read_excel(statewide_counts_path,sheet_name='gangDB')\n",
    "print(gangDB)\n",
    "print(gangDB.head)"
   ]
  },
  {
   "cell_type": "code",
   "execution_count": 2,
   "metadata": {},
   "outputs": [
    {
     "name": "stdout",
     "output_type": "stream",
     "text": [
      "SEX\n",
      "RAC\n",
      "EnterYear\n",
      "Number\n",
      "\n",
      "SEX: F\n",
      "RAC: W\n",
      "EnterYear: 1993\n",
      "Number: 2\n"
     ]
    }
   ],
   "source": [
    "# sanity check: a pandas dataframe is a list of columns:\n",
    "for col in gangDB:\n",
    "    print col \n",
    "    \n",
    "print(\"\")\n",
    "  \n",
    "for column, entries in gangDB.iteritems():   # better print out formatting\n",
    "    print '{name}: {value}'.format(name=column, value=entries[0])"
   ]
  },
  {
   "cell_type": "code",
   "execution_count": 3,
   "metadata": {},
   "outputs": [
    {
     "name": "stdout",
     "output_type": "stream",
     "text": [
      "[u'W', u'B', u'U', u'I', u'A']\n"
     ]
    }
   ],
   "source": [
    "# get the comprehensive list of races they track \n",
    "\n",
    "unique_identifiers = []\n",
    "\n",
    "for entry in gangDB['RAC']:\n",
    "    if not(entry in unique_identifiers):\n",
    "        unique_identifiers.append(entry)\n",
    "\n",
    "print(unique_identifiers)\n",
    "    \n",
    "\n"
   ]
  },
  {
   "cell_type": "code",
   "execution_count": 4,
   "metadata": {},
   "outputs": [
    {
     "name": "stdout",
     "output_type": "stream",
     "text": [
      "[[  6.490e+02   9.000e+00   5.270e+02   3.400e+01   5.450e+02   6.140e+02\n",
      "    5.190e+02   9.000e+00   4.090e+02   2.000e+01   1.400e+01   1.800e+01\n",
      "    7.240e+02   8.570e+02   7.790e+02   3.500e+01   9.370e+02   8.270e+02\n",
      "    3.200e+01   1.900e+01   4.490e+02   3.280e+02   3.710e+02   2.430e+02\n",
      "    1.600e+01   2.000e+00]\n",
      " [  1.391e+03   1.190e+03   2.600e+01   5.200e+01   3.400e+01   1.112e+03\n",
      "    1.800e+01   3.210e+02   2.000e+00   2.600e+01   2.120e+02   5.000e+00\n",
      "    2.340e+02   3.300e+02   4.000e+00   3.810e+02   2.820e+02   3.000e+00\n",
      "    1.000e+00   2.030e+02   1.480e+02   2.000e+00   1.760e+02   1.230e+02\n",
      "    2.280e+02   1.440e+02]\n",
      " [  1.970e+02   8.300e+01   7.220e+02   3.000e+00   1.000e+00   1.430e+02\n",
      "    7.900e+01   1.000e+00   2.900e+01   2.380e+02   3.300e+01   6.600e+01\n",
      "    1.000e+00   4.000e+01   3.600e+01   2.000e+00   1.380e+02   7.200e+01\n",
      "    3.200e+01   6.400e+01   1.000e+00   8.500e+01   6.800e+01   6.000e+00\n",
      "    1.000e+00   5.000e+00]\n",
      " [  1.000e+00   0.000e+00   0.000e+00   0.000e+00   0.000e+00   0.000e+00\n",
      "    1.000e+00   0.000e+00   0.000e+00   0.000e+00   0.000e+00   0.000e+00\n",
      "    0.000e+00   0.000e+00   0.000e+00   0.000e+00   0.000e+00   1.000e+00\n",
      "    0.000e+00   0.000e+00   1.000e+00   0.000e+00   0.000e+00   0.000e+00\n",
      "    0.000e+00   0.000e+00]\n",
      " [  0.000e+00   3.000e+00   5.000e+00   1.000e+01   3.000e+00   3.000e+00\n",
      "    5.000e+00   2.000e+00   4.000e+00   3.000e+00   1.000e+00   4.000e+00\n",
      "    0.000e+00   0.000e+00   4.000e+00   1.000e+00   2.000e+00   1.000e+00\n",
      "    2.000e+00   1.000e+00   2.000e+00   0.000e+00   2.000e+00   0.000e+00\n",
      "    1.000e+00   0.000e+00]]\n"
     ]
    }
   ],
   "source": [
    "# build a more convenient data structure for plotting\n",
    "import numpy as np\n",
    "\n",
    "N_races = len(unique_identifiers)\n",
    "startYear = gangDB['EnterYear'].iloc[0]\n",
    "endYear = gangDB['EnterYear'].iloc[-1]\n",
    "N_years = endYear - startYear + 1\n",
    "surveillanceTimeSeries = np.zeros((N_races, N_years)) # data structure for plotting entries by year for each race\n",
    "\n",
    "year2idx = dict(zip(np.arange(startYear,endYear+1),np.arange(0,N_years))) # for convenient translation between year and index\n",
    "\n",
    "for race_idx,race_ID in enumerate(unique_identifiers):\n",
    "    for idx,val in enumerate(gangDB['RAC']):\n",
    "        if race_ID==val:\n",
    "            year = gangDB['EnterYear'].iloc[idx]\n",
    "            yearIdx = year2idx[year]\n",
    "            numEntries = gangDB['Number'].iloc[idx]\n",
    "            surveillanceTimeSeries[race_idx][yearIdx] = numEntries\n",
    "\n",
    "np.set_printoptions(precision = 3)\n",
    "print(surveillanceTimeSeries)\n",
    " "
   ]
  },
  {
   "cell_type": "code",
   "execution_count": 5,
   "metadata": {},
   "outputs": [
    {
     "name": "stdout",
     "output_type": "stream",
     "text": [
      "[u'W', u'B', u'U', u'I', u'A']\n"
     ]
    },
    {
     "data": {
      "text/plain": [
       "<matplotlib.figure.Figure at 0x8682668>"
      ]
     },
     "metadata": {},
     "output_type": "display_data"
    },
    {
     "name": "stdout",
     "output_type": "stream",
     "text": [
      "[u'W', u'B', u'U', u'I', u'A']\n"
     ]
    },
    {
     "data": {
      "text/plain": [
       "<matplotlib.figure.Figure at 0x9d29358>"
      ]
     },
     "metadata": {},
     "output_type": "display_data"
    },
    {
     "name": "stdout",
     "output_type": "stream",
     "text": [
      "[u'W', u'B', u'U', u'I', u'A']\n"
     ]
    }
   ],
   "source": [
    "import matplotlib.pyplot as plt\n",
    "\n",
    "print(unique_identifiers)\n",
    "color_code = ['grey','black','blue','red','green']\n",
    "\n",
    "\n",
    "\n",
    "\n",
    "# print direct number of entries for each race, seperate subplots\n",
    "fig = plt.figure()\n",
    "\n",
    "ax = []\n",
    "\n",
    "for idx,ID in enumerate(unique_identifiers):\n",
    "    ax.append(fig.add_subplot(6,1,idx+1))\n",
    "    ax[idx].plot(surveillanceTimeSeries[idx][:],color=color_code[idx])\n",
    "\n",
    "plt.show()\n",
    "print(unique_identifiers)\n",
    "\n",
    "\n",
    "# one subplot\n",
    "fig = plt.figure()\n",
    "ax = fig.add_subplot(1,1,1)\n",
    "\n",
    "for idx,ID in enumerate(unique_identifiers):\n",
    "    ax.plot(surveillanceTimeSeries[idx][:],color=color_code[idx])\n",
    "\n",
    "plt.show()\n",
    "print(unique_identifiers)\n"
   ]
  },
  {
   "cell_type": "code",
   "execution_count": 6,
   "metadata": {},
   "outputs": [
    {
     "data": {
      "image/png": "[encoded data removed]",
      "text/plain": [
       "<matplotlib.figure.Figure at 0x47ad2b0>"
      ]
     },
     "metadata": {},
     "output_type": "display_data"
    },
    {
     "name": "stdout",
     "output_type": "stream",
     "text": [
      "[u'W', u'B', u'U', u'I', u'A']\n"
     ]
    }
   ],
   "source": [
    "# print cumulative entries for each race\n",
    "\n",
    "fig = plt.figure()\n",
    "ax = fig.add_subplot(1,1,1)\n",
    "\n",
    "for idx,ID in enumerate(unique_identifiers):\n",
    "    yy = np.cumsum(surveillanceTimeSeries[idx][:])\n",
    "    ax.plot(yy,color=color_code[idx])\n",
    "\n",
    "plt.show()\n",
    "print(unique_identifiers)\n",
    "\n"
   ]
  },
  {
   "cell_type": "code",
   "execution_count": 7,
   "metadata": {},
   "outputs": [
    {
     "data": {
      "image/png": "[encoded data removed]",
      "text/plain": [
       "<matplotlib.figure.Figure at 0x9e03c50>"
      ]
     },
     "metadata": {},
     "output_type": "display_data"
    },
    {
     "data": {
      "image/png": "[encoded data removed]",
      "text/plain": [
       "<matplotlib.figure.Figure at 0xa397f28>"
      ]
     },
     "metadata": {},
     "output_type": "display_data"
    }
   ],
   "source": [
    "# ratio of W (hispanic + white) to B (african-american)\n",
    "\n",
    "\n",
    "W_series = np.cumsum(surveillanceTimeSeries[0][:])\n",
    "B_series = np.cumsum(surveillanceTimeSeries[1][:])\n",
    "\n",
    "yy = []\n",
    "for idx,W_val in enumerate(W_series):\n",
    "    ratio = W_val / B_series[idx]\n",
    "    yy.append(ratio)\n",
    "fig = plt.figure()\n",
    "plt.plot(yy,color = 'r')\n",
    "plt.title('cumW / cumB')\n",
    "plt.show()\n",
    "\n",
    "W_series = surveillanceTimeSeries[0][:]\n",
    "B_series = surveillanceTimeSeries[1][:]\n",
    "yy = []\n",
    "for idx,W_val in enumerate(W_series):\n",
    "    difference = W_val - B_series[idx]\n",
    "    yy.append(difference)\n",
    "\n",
    "def smooth(y, box_pts):\n",
    "    box = np.ones(box_pts)/box_pts\n",
    "    y_smooth = np.convolve(y, box, mode='same')\n",
    "    return y_smooth\n",
    "    \n",
    "fig = plt.figure()\n",
    "plt.plot(yy,color = 'black')\n",
    "plt.plot(smooth(yy,8),color='gray')\n",
    "plt.title('W - B')\n",
    "plt.show()\n",
    "\n"
   ]
  },
  {
   "cell_type": "code",
   "execution_count": null,
   "metadata": {},
   "outputs": [],
   "source": []
  }
 ],
 "metadata": {
  "kernelspec": {
   "display_name": "Python 2",
   "language": "python",
   "name": "python2"
  },
  "language_info": {
   "codemirror_mode": {
    "name": "ipython",
    "version": 2
   },
   "file_extension": ".py",
   "mimetype": "text/x-python",
   "name": "python",
   "nbconvert_exporter": "python",
   "pygments_lexer": "ipython2",
   "version": "2.7.13"
  }
 },
 "nbformat": 4,
 "nbformat_minor": 2
}
